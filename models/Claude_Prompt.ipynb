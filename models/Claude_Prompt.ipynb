{
 "cells": [
  {
   "cell_type": "code",
   "execution_count": 2,
   "id": "d8255a20",
   "metadata": {
    "scrolled": true
   },
   "outputs": [
    {
     "name": "stdout",
     "output_type": "stream",
     "text": [
      "Requirement already satisfied: langchain-anthropic in /Users/darcydebord/anaconda3/lib/python3.11/site-packages (0.1.20)\n",
      "Requirement already satisfied: anthropic<1,>=0.28.0 in /Users/darcydebord/anaconda3/lib/python3.11/site-packages (from langchain-anthropic) (0.31.2)\n",
      "Requirement already satisfied: defusedxml<0.8.0,>=0.7.1 in /Users/darcydebord/anaconda3/lib/python3.11/site-packages (from langchain-anthropic) (0.7.1)\n",
      "Requirement already satisfied: langchain-core<0.3,>=0.2.17 in /Users/darcydebord/anaconda3/lib/python3.11/site-packages (from langchain-anthropic) (0.2.19)\n",
      "Requirement already satisfied: anyio<5,>=3.5.0 in /Users/darcydebord/anaconda3/lib/python3.11/site-packages (from anthropic<1,>=0.28.0->langchain-anthropic) (3.5.0)\n",
      "Requirement already satisfied: distro<2,>=1.7.0 in /Users/darcydebord/anaconda3/lib/python3.11/site-packages (from anthropic<1,>=0.28.0->langchain-anthropic) (1.9.0)\n",
      "Requirement already satisfied: httpx<1,>=0.23.0 in /Users/darcydebord/anaconda3/lib/python3.11/site-packages (from anthropic<1,>=0.28.0->langchain-anthropic) (0.27.0)\n",
      "Requirement already satisfied: jiter<1,>=0.4.0 in /Users/darcydebord/anaconda3/lib/python3.11/site-packages (from anthropic<1,>=0.28.0->langchain-anthropic) (0.5.0)\n",
      "Requirement already satisfied: pydantic<3,>=1.9.0 in /Users/darcydebord/anaconda3/lib/python3.11/site-packages (from anthropic<1,>=0.28.0->langchain-anthropic) (1.10.8)\n",
      "Requirement already satisfied: sniffio in /Users/darcydebord/anaconda3/lib/python3.11/site-packages (from anthropic<1,>=0.28.0->langchain-anthropic) (1.2.0)\n",
      "Requirement already satisfied: tokenizers>=0.13.0 in /Users/darcydebord/anaconda3/lib/python3.11/site-packages (from anthropic<1,>=0.28.0->langchain-anthropic) (0.13.2)\n",
      "Requirement already satisfied: typing-extensions<5,>=4.7 in /Users/darcydebord/anaconda3/lib/python3.11/site-packages (from anthropic<1,>=0.28.0->langchain-anthropic) (4.7.1)\n",
      "Requirement already satisfied: PyYAML>=5.3 in /Users/darcydebord/anaconda3/lib/python3.11/site-packages (from langchain-core<0.3,>=0.2.17->langchain-anthropic) (6.0)\n",
      "Requirement already satisfied: jsonpatch<2.0,>=1.33 in /Users/darcydebord/anaconda3/lib/python3.11/site-packages (from langchain-core<0.3,>=0.2.17->langchain-anthropic) (1.33)\n",
      "Requirement already satisfied: langsmith<0.2.0,>=0.1.75 in /Users/darcydebord/anaconda3/lib/python3.11/site-packages (from langchain-core<0.3,>=0.2.17->langchain-anthropic) (0.1.85)\n",
      "Requirement already satisfied: packaging<25,>=23.2 in /Users/darcydebord/anaconda3/lib/python3.11/site-packages (from langchain-core<0.3,>=0.2.17->langchain-anthropic) (24.1)\n",
      "Requirement already satisfied: tenacity!=8.4.0,<9.0.0,>=8.1.0 in /Users/darcydebord/anaconda3/lib/python3.11/site-packages (from langchain-core<0.3,>=0.2.17->langchain-anthropic) (8.2.2)\n",
      "Requirement already satisfied: idna>=2.8 in /Users/darcydebord/anaconda3/lib/python3.11/site-packages (from anyio<5,>=3.5.0->anthropic<1,>=0.28.0->langchain-anthropic) (3.4)\n",
      "Requirement already satisfied: certifi in /Users/darcydebord/anaconda3/lib/python3.11/site-packages (from httpx<1,>=0.23.0->anthropic<1,>=0.28.0->langchain-anthropic) (2024.6.2)\n",
      "Requirement already satisfied: httpcore==1.* in /Users/darcydebord/anaconda3/lib/python3.11/site-packages (from httpx<1,>=0.23.0->anthropic<1,>=0.28.0->langchain-anthropic) (1.0.5)\n",
      "Requirement already satisfied: h11<0.15,>=0.13 in /Users/darcydebord/anaconda3/lib/python3.11/site-packages (from httpcore==1.*->httpx<1,>=0.23.0->anthropic<1,>=0.28.0->langchain-anthropic) (0.14.0)\n",
      "Requirement already satisfied: jsonpointer>=1.9 in /Users/darcydebord/anaconda3/lib/python3.11/site-packages (from jsonpatch<2.0,>=1.33->langchain-core<0.3,>=0.2.17->langchain-anthropic) (2.1)\n",
      "Requirement already satisfied: orjson<4.0.0,>=3.9.14 in /Users/darcydebord/anaconda3/lib/python3.11/site-packages (from langsmith<0.2.0,>=0.1.75->langchain-core<0.3,>=0.2.17->langchain-anthropic) (3.10.6)\n",
      "Requirement already satisfied: requests<3,>=2 in /Users/darcydebord/anaconda3/lib/python3.11/site-packages (from langsmith<0.2.0,>=0.1.75->langchain-core<0.3,>=0.2.17->langchain-anthropic) (2.31.0)\n",
      "Requirement already satisfied: charset-normalizer<4,>=2 in /Users/darcydebord/anaconda3/lib/python3.11/site-packages (from requests<3,>=2->langsmith<0.2.0,>=0.1.75->langchain-core<0.3,>=0.2.17->langchain-anthropic) (2.0.4)\n",
      "Requirement already satisfied: urllib3<3,>=1.21.1 in /Users/darcydebord/anaconda3/lib/python3.11/site-packages (from requests<3,>=2->langsmith<0.2.0,>=0.1.75->langchain-core<0.3,>=0.2.17->langchain-anthropic) (1.26.16)\n"
     ]
    }
   ],
   "source": [
    "!pip install -qU langchain-anthropic \n",
    "!pip install langchain-anthropic\n",
    "from langchain_anthropic import ChatAnthropic\n",
    "from langchain_core.prompts import ChatPromptTemplate\n",
    "from dotenv import load_dotenv\n",
    "import os"
   ]
  },
  {
   "cell_type": "code",
   "execution_count": 3,
   "id": "ab98cfb4",
   "metadata": {},
   "outputs": [],
   "source": [
    "# Load environment variables.\n",
    "load_dotenv()\n",
    "\n",
    "# Set the model name for our LLMs.\n",
    "#OPENAI_MODEL = \"gpt-3.5-turbo\"\n",
    "\n",
    "# Store the API key in a variable.\n",
    "ClaudeAPI_Key = os.getenv(\"ClaudeAPI_Key\")"
   ]
  },
  {
   "cell_type": "code",
   "execution_count": 5,
   "id": "a5d1c8db",
   "metadata": {},
   "outputs": [],
   "source": [
    "# Additional imports for list parser.\n",
    "from langchain.output_parsers import CommaSeparatedListOutputParser"
   ]
  },
  {
   "cell_type": "code",
   "execution_count": 6,
   "id": "7c451951",
   "metadata": {},
   "outputs": [
    {
     "name": "stdout",
     "output_type": "stream",
     "text": [
      "Your response should be a list of comma separated values, eg: `foo, bar, baz` or `foo,bar,baz`\n",
      "\n"
     ]
    }
   ],
   "source": [
    "# Initialize the model.\n",
    "chat = ChatAnthropic(temperature=0, api_key=\"ClaudeAPI_Key\", model_name=\"claude-3-opus-20240229\")\n",
    "\n",
    "\n",
    "# Initialize the output parser.\n",
    "parser = CommaSeparatedListOutputParser()\n",
    "\n",
    "# Get the output format instructions.\n",
    "instructions = parser.get_format_instructions()\n",
    "print(instructions)\n",
    "\n",
    "print()"
   ]
  },
  {
   "cell_type": "code",
   "execution_count": 2,
   "id": "92f9c4af",
   "metadata": {},
   "outputs": [],
   "source": [
    "# Define a query as a string, combining with the instructions."
   ]
  },
  {
   "cell_type": "code",
   "execution_count": null,
   "id": "0b485c0e",
   "metadata": {},
   "outputs": [],
   "source": [
    "You are an AI assistant tasked with analyzing and responding to Google reviews. You will be provided with a Google review and a binary sentiment code. Your job is to verify the sentiment, and then craft an appropriate response based on whether the review is positive or negative.\n",
    "\n",
    "Here is the Google review you need to analyze:\n",
    "<google_review>\n",
    "{{GOOGLE_REVIEW}}\n",
    "</google_review>\n",
    "\n",
    "The provided sentiment code is:\n",
    "<sentiment_code>\n",
    "{{SENTIMENT_CODE}}\n",
    "</sentiment_code>\n",
    "\n",
    "First, carefully read the review and determine if you agree with the provided sentiment code. The code '1' indicates a positive review, while '0' indicates a negative review. \n",
    "\n",
    "In your analysis, consider the following:\n",
    "- The overall tone of the review\n",
    "- Any specific praise or complaints mentioned\n",
    "- The star rating, if provided\n",
    "\n",
    "Write your sentiment analysis inside <sentiment_analysis> tags. Include your reasoning and whether you agree or disagree with the provided sentiment code.\n",
    "\n",
    "After your analysis, proceed based on whether the review is positive or negative:\n",
    "\n",
    "For a positive review:\n",
    "1. Express gratitude for the positive feedback\n",
    "2. Highlight a specific point from the review, if applicable\n",
    "3. Invite the customer to visit again\n",
    "4. Keep the tone warm and appreciative\n",
    "\n",
    "For a negative review:\n",
    "1. Express regret for the unsatisfactory experience\n",
    "2. Acknowledge the specific issues mentioned in the review\n",
    "3. Request additional context by outputting <request_context> tags. The user will provide this context in the next interaction.\n",
    "4. Once context is provided, craft a response that:\n",
    "   a. Addresses the concerns raised\n",
    "   b. Explains steps being taken to improve\n",
    "   c. Invites the customer to give the business another chance\n",
    "5. Keep the tone professional, empathetic, and solution-oriented\n",
    "\n",
    "Write your final response inside <response> tags.\n",
    "\n",
    "Remember, your goal is to maintain a positive relationship with the customer, address their concerns, and uphold the reputation of the business."
   ]
  }
 ],
 "metadata": {
  "kernelspec": {
   "display_name": "dev",
   "language": "python",
   "name": "dev"
  },
  "language_info": {
   "codemirror_mode": {
    "name": "ipython",
    "version": 3
   },
   "file_extension": ".py",
   "mimetype": "text/x-python",
   "name": "python",
   "nbconvert_exporter": "python",
   "pygments_lexer": "ipython3",
   "version": "3.10.13"
  }
 },
 "nbformat": 4,
 "nbformat_minor": 5
}
