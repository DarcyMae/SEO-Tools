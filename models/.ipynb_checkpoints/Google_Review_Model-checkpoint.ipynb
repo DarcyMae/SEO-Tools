{
 "cells": [
  {
   "cell_type": "code",
   "execution_count": 1,
   "id": "dc6e0774",
   "metadata": {},
   "outputs": [],
   "source": [
    "# Libraries\n",
    "from pathlib import Path\n",
    "import tensorflow as tf\n",
    "import pandas as pd\n",
    "import numpy as np\n",
    "from sklearn.metrics import classification_report\n",
    "from tensorflow.keras.models import Sequential\n",
    "from tensorflow.keras.layers import Embedding, LSTM, Dense\n",
    "from tensorflow.keras.preprocessing.text import Tokenizer\n",
    "from tensorflow.keras.preprocessing.sequence import pad_sequences\n",
    "from nltk.tokenize import word_tokenize\n",
    "from nltk.corpus import stopwords\n",
    "import nltk"
   ]
  },
  {
   "cell_type": "code",
   "execution_count": 2,
   "id": "b448e983",
   "metadata": {},
   "outputs": [],
   "source": [
    "# Set the model's file path\n",
    "file_path = Path(\"SecondRun.keras\")"
   ]
  },
  {
   "cell_type": "code",
   "execution_count": null,
   "id": "3f736a27",
   "metadata": {},
   "outputs": [],
   "source": [
    "\n",
    "# Load the model to a new object\n",
    "nn_import = tf.keras.models.load_model(file_path)\n",
    "# Load your test data\n",
    "# Assuming you have a CSV file with 'text' and 'target' columns\n",
    "test_data = pd.read_csv('reviews.csv')"
   ]
  },
  {
   "cell_type": "code",
   "execution_count": null,
   "id": "5db919eb",
   "metadata": {},
   "outputs": [],
   "source": [
    "#Preprocess for tokenization\n",
    "def preprocess_text(text):\n",
    "    # Tokenization\n",
    "    tokens = word_tokenize(text.lower())\n",
    "    # Remove stopwords and punctuation\n",
    "    stop_words = set(stopwords.words('english'))\n",
    "    tokens = [token for token in tokens if token.isalnum() and token not in stop_words]\n",
    "    return ' '.join(tokens)"
   ]
  },
  {
   "cell_type": "code",
   "execution_count": null,
   "id": "684d9773",
   "metadata": {},
   "outputs": [],
   "source": [
    "# Preprocess the test data\n",
    "test_data['processed_text'] = test_data['text'].apply(preprocess_text)"
   ]
  },
  {
   "cell_type": "code",
   "execution_count": null,
   "id": "22e05e7c",
   "metadata": {},
   "outputs": [],
   "source": [
    "# Tokenize and pad the sequences\n",
    "# Note: You should use the same tokenizer as in training, or load a saved tokenizer\n",
    "tokenizer = Tokenizer()\n",
    "tokenizer.fit_on_texts(test_data['processed_text'])\n",
    "sequences = tokenizer.texts_to_sequences(test_data['processed_text'])\n",
    "X_test = pad_sequences(sequences)"
   ]
  },
  {
   "cell_type": "code",
   "execution_count": null,
   "id": "ba1dfb15",
   "metadata": {},
   "outputs": [],
   "source": [
    "# Get the true labels\n",
    "y_test = test_data['text']\n",
    "\n",
    "# Make predictions\n",
    "y_pred_proba = nn_import.predict(X_test)\n",
    "y_pred = (y_pred_proba > 0.5).astype(str)\n",
    "# Generate and print the classification report\n",
    "print(classification_report(y_test, y_pred))"
   ]
  },
  {
   "cell_type": "code",
   "execution_count": null,
   "id": "6c838df1",
   "metadata": {},
   "outputs": [],
   "source": [
    "# Set the model's file path\n",
    "file_path = Path(\"SecondRun.keras\")\n",
    "\n",
    "# Load the model to a new object\n",
    "nn_import = tf.keras.models.load_model(file_path)"
   ]
  },
  {
   "cell_type": "code",
   "execution_count": null,
   "id": "43fd3b69",
   "metadata": {},
   "outputs": [],
   "source": [
    "# Load your test data\n",
    "# Assuming you have a CSV file with 'text' and 'target' columns\n",
    "test_data = pd.read_csv('reviews.csv')"
   ]
  },
  {
   "cell_type": "code",
   "execution_count": null,
   "id": "9f3e9bf7",
   "metadata": {},
   "outputs": [],
   "source": [
    "test_data.columns"
   ]
  },
  {
   "cell_type": "code",
   "execution_count": null,
   "id": "ff9c6103",
   "metadata": {},
   "outputs": [],
   "source": [
    "test_data.head()"
   ]
  },
  {
   "cell_type": "code",
   "execution_count": null,
   "id": "46a689b0",
   "metadata": {},
   "outputs": [],
   "source": [
    "#Preprocess for tokenization\n",
    "def preprocess_text(text):\n",
    "    # Tokenization\n",
    "    tokens = word_tokenize(text.lower())\n",
    "    # Remove stopwords and punctuation\n",
    "    stop_words = set(stopwords.words('english'))\n",
    "    tokens = [token for token in tokens if token.isalnum() and token not in stop_words]\n",
    "    return ' '.join(tokens)"
   ]
  },
  {
   "cell_type": "code",
   "execution_count": 1,
   "id": "ee21d9c9",
   "metadata": {},
   "outputs": [
    {
     "ename": "NameError",
     "evalue": "name 'test_data' is not defined",
     "output_type": "error",
     "traceback": [
      "\u001b[0;31m---------------------------------------------------------------------------\u001b[0m",
      "\u001b[0;31mNameError\u001b[0m                                 Traceback (most recent call last)",
      "Cell \u001b[0;32mIn[1], line 2\u001b[0m\n\u001b[1;32m      1\u001b[0m \u001b[38;5;66;03m# Preprocess the test data\u001b[39;00m\n\u001b[0;32m----> 2\u001b[0m test_data[\u001b[38;5;124m'\u001b[39m\u001b[38;5;124mprocessed_text\u001b[39m\u001b[38;5;124m'\u001b[39m] \u001b[38;5;241m=\u001b[39m \u001b[43mtest_data\u001b[49m[\u001b[38;5;124m'\u001b[39m\u001b[38;5;124mtext\u001b[39m\u001b[38;5;124m'\u001b[39m]\u001b[38;5;241m.\u001b[39mapply(preprocess_text)\n",
      "\u001b[0;31mNameError\u001b[0m: name 'test_data' is not defined"
     ]
    }
   ],
   "source": [
    "\n",
    "# Preprocess the test data\n",
    "test_data['processed_text'] = test_data['text'].apply(preprocess_text)"
   ]
  },
  {
   "cell_type": "code",
   "execution_count": null,
   "id": "e159704d",
   "metadata": {},
   "outputs": [],
   "source": [
    "# Tokenize and pad the sequences\n",
    "# Note: You should use the same tokenizer as in training, or load a saved tokenizer\n",
    "tokenizer = Tokenizer()\n",
    "tokenizer.fit_on_texts(test_data['processed_text'])\n",
    "sequences = tokenizer.texts_to_sequences(test_data['processed_text'])\n",
    "X_test = pad_sequences(sequences)"
   ]
  },
  {
   "cell_type": "code",
   "execution_count": null,
   "id": "31273185",
   "metadata": {},
   "outputs": [],
   "source": [
    "# Get the true labels\n",
    "y_test = test_data['text']\n",
    "\n",
    "# Make predictions\n",
    "y_pred_proba = nn_import.predict(X_test)\n",
    "y_pred = (y_pred_proba > 0.5).astype(str)"
   ]
  },
  {
   "cell_type": "code",
   "execution_count": null,
   "id": "fb90d03a",
   "metadata": {},
   "outputs": [],
   "source": [
    "# Generate and print the classification report\n",
    "print(classification_report(y_test, y_pred))"
   ]
  },
  {
   "cell_type": "code",
   "execution_count": null,
   "id": "aec96dca",
   "metadata": {},
   "outputs": [],
   "source": [
    "# Application (simple example)\n",
    "def predict_polarity(text):\n",
    "    processed = preprocess_text(text)\n",
    "    sequence = tokenizer.texts_to_sequences([processed])\n",
    "    padded = pad_sequences(sequence, maxlen=X_test.shape[1])\n",
    "    prediction = nn_import.predict(padded)[0][0]\n",
    "    print(prediction)\n",
    "    return \"Most Likely Negative\" if prediction > 0.5 else \"Most Likely Positive\""
   ]
  },
  {
   "cell_type": "code",
   "execution_count": null,
   "id": "760ee098",
   "metadata": {},
   "outputs": [],
   "source": [
    "greview = test_data['text'][13]\n",
    "print(greview)"
   ]
  },
  {
   "cell_type": "code",
   "execution_count": null,
   "id": "23ba525c",
   "metadata": {},
   "outputs": [],
   "source": [
    "# Test the application\n",
    "test_text = greview\n",
    "print(predict_polarity(test_text))"
   ]
  }
 ],
 "metadata": {
  "kernelspec": {
   "display_name": "dev",
   "language": "python",
   "name": "dev"
  },
  "language_info": {
   "codemirror_mode": {
    "name": "ipython",
    "version": 3
   },
   "file_extension": ".py",
   "mimetype": "text/x-python",
   "name": "python",
   "nbconvert_exporter": "python",
   "pygments_lexer": "ipython3",
   "version": "3.10.13"
  }
 },
 "nbformat": 4,
 "nbformat_minor": 5
}
